{
 "cells": [
  {
   "cell_type": "code",
   "execution_count": 41,
   "id": "c27da3b6",
   "metadata": {},
   "outputs": [
    {
     "ename": "TypeError",
     "evalue": "'set' object is not callable",
     "output_type": "error",
     "traceback": [
      "\u001b[31m---------------------------------------------------------------------------\u001b[39m",
      "\u001b[31mTypeError\u001b[39m                                 Traceback (most recent call last)",
      "\u001b[36mCell\u001b[39m\u001b[36m \u001b[39m\u001b[32mIn[41]\u001b[39m\u001b[32m, line 1\u001b[39m\n\u001b[32m----> \u001b[39m\u001b[32m1\u001b[39m set_empty=\u001b[38;5;28;43mset\u001b[39;49m\u001b[43m(\u001b[49m\u001b[43m)\u001b[49m\n\u001b[32m      2\u001b[39m \u001b[38;5;28mprint\u001b[39m(\u001b[38;5;28mtype\u001b[39m(set_empty))\n\u001b[32m      3\u001b[39m sets={\u001b[32m1\u001b[39m,\u001b[32m2\u001b[39m,\u001b[32m3\u001b[39m,\u001b[32m4\u001b[39m,\u001b[32m5\u001b[39m}\n",
      "\u001b[31mTypeError\u001b[39m: 'set' object is not callable"
     ]
    }
   ],
   "source": [
    "set_empty=set()\n",
    "print(type(set_empty))\n",
    "sets={1,2,3,4,5}\n",
    "print(sets,type(sets))"
   ]
  },
  {
   "cell_type": "code",
   "execution_count": null,
   "id": "ff2152ab",
   "metadata": {},
   "outputs": [
    {
     "name": "stdout",
     "output_type": "stream",
     "text": [
      "{1, 2, 3}\n"
     ]
    }
   ],
   "source": [
    "# collection of unique data\n",
    "set_multiObejct=set([1,2,2,3])\n",
    "print(set_multiObejct)"
   ]
  },
  {
   "cell_type": "code",
   "execution_count": null,
   "id": "dc9e16b8",
   "metadata": {},
   "outputs": [
    {
     "name": "stdout",
     "output_type": "stream",
     "text": [
      "{1, 2, 3, 4, 5, 6}\n",
      "{2, 3, 4, 5, 6}\n",
      "{2, 3, 4, 5, 6}\n",
      "<built-in method pop of set object at 0x78d7e88f3920>\n"
     ]
    }
   ],
   "source": [
    "#add or remove\n",
    "sets.add(6)\n",
    "print(sets)\n",
    "\n",
    "sets.remove(1)\n",
    "print(sets)\n",
    "\n",
    "sets.discard(10)\n",
    "print(sets)\n",
    "\n",
    "remove=sets.pop\n",
    "print(remove) "
   ]
  },
  {
   "cell_type": "code",
   "execution_count": null,
   "id": "e365c7ab",
   "metadata": {},
   "outputs": [
    {
     "name": "stdout",
     "output_type": "stream",
     "text": [
      "True\n"
     ]
    }
   ],
   "source": [
    "#search\n",
    "print(4 in sets)"
   ]
  },
  {
   "cell_type": "code",
   "execution_count": null,
   "id": "0f37e154",
   "metadata": {},
   "outputs": [
    {
     "name": "stdout",
     "output_type": "stream",
     "text": [
      "{1, 2, 3, 4, 6, 7, 8}\n",
      "{4}\n",
      "{1, 2, 3, 4}\n",
      "{1, 2, 3}\n",
      "{8, 6, 7}\n",
      "{1, 2, 3, 6, 7, 8}\n"
     ]
    }
   ],
   "source": [
    "#math operaion\n",
    "\n",
    "set1={1,2,3,4}\n",
    "set2={6,7,8,4}\n",
    "\n",
    "#Union\n",
    "union_set=set1.union(set2)\n",
    "print(union_set)\n",
    "\n",
    "#intersection\n",
    "intersection_set=set1.intersection(set2)\n",
    "print(intersection_set)\n",
    "\n",
    "#intersection update to set1\n",
    "# intersection_update= set1.intersection_update(set2)\n",
    "print(set1)\n",
    "\n",
    "#difirence\n",
    "print(set1.difference(set2))  #set1-set2\n",
    "print(set2.difference(set1))  #set2-set1\n",
    "\n",
    "\n",
    "#symatric diffrence (reverse of intersection)\n",
    "print(set1.symmetric_difference(set2))  \n"
   ]
  },
  {
   "cell_type": "code",
   "execution_count": null,
   "id": "d5371370",
   "metadata": {},
   "outputs": [
    {
     "name": "stdout",
     "output_type": "stream",
     "text": [
      "True\n",
      "True\n"
     ]
    }
   ],
   "source": [
    "set11={1,2,3}\n",
    "set22={2,3}\n",
    "\n",
    "print(set22.issubset(set11))  #subset\n",
    "print(set11.issuperset(set22))#super set\n",
    "\n"
   ]
  },
  {
   "cell_type": "code",
   "execution_count": 48,
   "id": "d0f827d0",
   "metadata": {},
   "outputs": [
    {
     "ename": "TypeError",
     "evalue": "'set' object is not callable",
     "output_type": "error",
     "traceback": [
      "\u001b[31m---------------------------------------------------------------------------\u001b[39m",
      "\u001b[31mTypeError\u001b[39m                                 Traceback (most recent call last)",
      "\u001b[36mCell\u001b[39m\u001b[36m \u001b[39m\u001b[32mIn[48]\u001b[39m\u001b[32m, line 2\u001b[39m\n\u001b[32m      1\u001b[39m lst22222 = [\u001b[32m1\u001b[39m, \u001b[32m2\u001b[39m, \u001b[32m3\u001b[39m, \u001b[32m4\u001b[39m, \u001b[32m5\u001b[39m]\n\u001b[32m----> \u001b[39m\u001b[32m2\u001b[39m set2221 = \u001b[38;5;28;43mset\u001b[39;49m\u001b[43m(\u001b[49m\u001b[43mlst22222\u001b[49m\u001b[43m)\u001b[49m\n\u001b[32m      3\u001b[39m \u001b[38;5;28mprint\u001b[39m(set2221)\n",
      "\u001b[31mTypeError\u001b[39m: 'set' object is not callable"
     ]
    }
   ],
   "source": [
    "lst22222 = [1, 2, 3, 4, 5]\n",
    "set2221 = set(lst22222)\n",
    "print(set2221)\n"
   ]
  }
 ],
 "metadata": {
  "kernelspec": {
   "display_name": "Python 3",
   "language": "python",
   "name": "python3"
  },
  "language_info": {
   "codemirror_mode": {
    "name": "ipython",
    "version": 3
   },
   "file_extension": ".py",
   "mimetype": "text/x-python",
   "name": "python",
   "nbconvert_exporter": "python",
   "pygments_lexer": "ipython3",
   "version": "3.12.0"
  }
 },
 "nbformat": 4,
 "nbformat_minor": 5
}
