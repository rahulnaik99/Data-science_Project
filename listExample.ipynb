{
 "cells": [
  {
   "cell_type": "code",
   "execution_count": null,
   "id": "bdff5fe7",
   "metadata": {},
   "outputs": [],
   "source": [
    "to_do_list=[\"Buy_Grocieries\",\"clean_the_house\",\"pay_bills\"]\n",
    "to_do_list.append[\"schedule meeting\"]\n",
    "to_do_list.append[\"Go for run\"]\n",
    "\n",
    "to_do_list.remove[\"Buy_Grocieries\"]\n"
   ]
  },
  {
   "cell_type": "code",
   "execution_count": null,
   "id": "1381c28d",
   "metadata": {},
   "outputs": [],
   "source": []
  }
 ],
 "metadata": {
  "language_info": {
   "name": "python"
  }
 },
 "nbformat": 4,
 "nbformat_minor": 5
}
