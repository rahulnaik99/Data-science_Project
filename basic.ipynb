{
 "cells": [
  {
   "cell_type": "code",
   "execution_count": 1,
   "id": "ae47a368",
   "metadata": {},
   "outputs": [
    {
     "name": "stdout",
     "output_type": "stream",
     "text": [
      "rahul\n"
     ]
    }
   ],
   "source": [
    "print(\"rahul\")"
   ]
  },
  {
   "cell_type": "code",
   "execution_count": 3,
   "id": "ee7c0b18",
   "metadata": {},
   "outputs": [
    {
     "name": "stdout",
     "output_type": "stream",
     "text": [
      "<class 'str'>\n"
     ]
    }
   ],
   "source": [
    "print(type(\"rahul\"))"
   ]
  },
  {
   "cell_type": "code",
   "execution_count": 2,
   "id": "d09ff8db",
   "metadata": {},
   "outputs": [
    {
     "name": "stdout",
     "output_type": "stream",
     "text": [
      "24\n"
     ]
    }
   ],
   "source": [
    "age='24'\n",
    "number=int(age)\n",
    "print(24)"
   ]
  },
  {
   "cell_type": "code",
   "execution_count": 4,
   "id": "a765da1c",
   "metadata": {},
   "outputs": [
    {
     "name": "stdout",
     "output_type": "stream",
     "text": [
      "6\n",
      "6.0\n"
     ]
    }
   ],
   "source": [
    "hieght = 6.1\n",
    "type(hieght)\n",
    "a = int(hieght)\n",
    "print(a)\n",
    "print(float(a))\n"
   ]
  },
  {
   "cell_type": "code",
   "execution_count": 22,
   "id": "158b2d80",
   "metadata": {},
   "outputs": [
    {
     "name": "stdout",
     "output_type": "stream",
     "text": [
      "10 <class 'int'>\n",
      "hello <class 'str'>\n",
      "True <class 'bool'>\n"
     ]
    }
   ],
   "source": [
    "# Dynamic Typing\n",
    "var=10;\n",
    "\n",
    "print(var,type(var))\n",
    "var=\"hello\"\n",
    "print(var,type(var))\n",
    "var = True\n",
    "print(var,type(var))"
   ]
  },
  {
   "cell_type": "code",
   "execution_count": 15,
   "id": "94eecc27",
   "metadata": {},
   "outputs": [
    {
     "name": "stdout",
     "output_type": "stream",
     "text": [
      "45 <class 'int'>\n"
     ]
    }
   ],
   "source": [
    "# input\n",
    "\n",
    "age=int(input(\"whats the age\"))\n",
    "print(age,type(age))"
   ]
  },
  {
   "cell_type": "code",
   "execution_count": null,
   "id": "3415add0",
   "metadata": {},
   "outputs": [
    {
     "name": "stdout",
     "output_type": "stream",
     "text": [
      "Sum : 88.0\n",
      "Subtraction : 88.0\n",
      "Multiplication : 88.0\n",
      "Division : 0.6296296296296297 and the remainder is 34.0\n",
      "Floor Division : 0.0\n",
      "Exponential : 5.01027449872726e+82\n"
     ]
    }
   ],
   "source": [
    "# calculator\n",
    "\n",
    "var1 = float(input(\"Enter value of first variable\"))\n",
    "var2 = float(input(\"Enter value of second variable\"))\n",
    "print(\"Sum :\",var1+var2)\n",
    "print(\"Subtraction :\",var1+var2)\n",
    "print(\"Multiplication :\",var1+var2)\n",
    "print(\"Division :\",var1/var2, \"and the remainder is\",var1 % var2)\n",
    "print(\"Floor Division :\",var1 // var2)\n",
    "print(\"Exponential :\",var1 ** var2)"
   ]
  },
  {
   "cell_type": "code",
   "execution_count": 26,
   "id": "b7262998",
   "metadata": {},
   "outputs": [
    {
     "name": "stdout",
     "output_type": "stream",
     "text": [
      "b\n"
     ]
    }
   ],
   "source": [
    "a=True\n",
    "b=False\n",
    "\n",
    "if a==False:\n",
    "    print(a)\n",
    "\n",
    "else: print(\"b\")\n",
    "\n"
   ]
  },
  {
   "cell_type": "code",
   "execution_count": 28,
   "id": "e0f527a7",
   "metadata": {},
   "outputs": [
    {
     "name": "stdout",
     "output_type": "stream",
     "text": [
      "too old\n"
     ]
    }
   ],
   "source": [
    "age=60\n",
    "\n",
    "if age<18:\n",
    "    print(\"too young\")\n",
    "elif age>30:\n",
    "    print(\"too old\")\n",
    "else: print(\"corect\")    \n",
    "\n"
   ]
  },
  {
   "cell_type": "code",
   "execution_count": 35,
   "id": "2c510597",
   "metadata": {},
   "outputs": [
    {
     "name": "stdout",
     "output_type": "stream",
     "text": [
      "Odd number\n"
     ]
    }
   ],
   "source": [
    "number =int(input(\"Enter the Number\"))\n",
    "if number>0:\n",
    "\n",
    "    if number%2==0:\n",
    "        print(\"Even Number\")\n",
    "    else: print(\"Odd number\") \n",
    "\n",
    "else: print(\"not a valid Possitive Integer\")       "
   ]
  },
  {
   "cell_type": "code",
   "execution_count": null,
   "id": "c931227a",
   "metadata": {},
   "outputs": [],
   "source": [
    "for i in range (0,5):\n",
    "    print(i)\n",
    "\n",
    "print(\"------------\")\n",
    "for i in range (0,5,2):\n",
    "    print(i)\n",
    "\n",
    "print(\"------------\")\n",
    "for i in range (10,0,-2):\n",
    "    print(i)   \n",
    "\n",
    "print(\"------------\")\n",
    "for i in range (10,0,-5):\n",
    "    print(i)     "
   ]
  },
  {
   "cell_type": "code",
   "execution_count": null,
   "id": "fb2e8b2f",
   "metadata": {},
   "outputs": [],
   "source": [
    "string = \"heelo world\"\n",
    "for i in string:\n",
    "    print(i)"
   ]
  },
  {
   "cell_type": "code",
   "execution_count": null,
   "id": "701c1bd3",
   "metadata": {},
   "outputs": [],
   "source": [
    "# whileloop\n",
    "number =100\n",
    "while number>10:\n",
    "    print(number)\n",
    "    number-=10\n"
   ]
  },
  {
   "cell_type": "code",
   "execution_count": 58,
   "id": "d2443d08",
   "metadata": {},
   "outputs": [
    {
     "name": "stdout",
     "output_type": "stream",
     "text": [
      "0\n",
      "1\n",
      "2\n",
      "3\n",
      "4\n"
     ]
    }
   ],
   "source": [
    "for i in range(10):\n",
    "    if i==5:\n",
    "        break\n",
    "    print (i)"
   ]
  },
  {
   "cell_type": "code",
   "execution_count": 2,
   "id": "b3ab9c92",
   "metadata": {},
   "outputs": [
    {
     "name": "stdout",
     "output_type": "stream",
     "text": [
      "0\n",
      "1\n",
      "3\n",
      "4\n",
      "5\n"
     ]
    }
   ],
   "source": [
    "for i in range(6):\n",
    "    if i==2:\n",
    "        continue\n",
    "    print (i)"
   ]
  },
  {
   "cell_type": "code",
   "execution_count": 3,
   "id": "18e3bbd5",
   "metadata": {},
   "outputs": [
    {
     "name": "stdout",
     "output_type": "stream",
     "text": [
      "0\n",
      "1\n",
      "2\n",
      "3\n",
      "4\n",
      "5\n"
     ]
    }
   ],
   "source": [
    "for i in range(6):\n",
    "    if i==2:\n",
    "        pass\n",
    "    print (i)"
   ]
  },
  {
   "cell_type": "code",
   "execution_count": 4,
   "id": "ef1525a5",
   "metadata": {},
   "outputs": [
    {
     "name": "stdout",
     "output_type": "stream",
     "text": [
      "i:0 and j:0\n",
      "i:0 and j:1\n",
      "i:1 and j:0\n",
      "i:1 and j:1\n",
      "i:2 and j:0\n",
      "i:2 and j:1\n"
     ]
    }
   ],
   "source": [
    "for i in range(3):\n",
    "    for j in range(2):\n",
    "        print(f\"i:{i} and j:{j}\")"
   ]
  },
  {
   "cell_type": "code",
   "execution_count": null,
   "id": "39277f9c",
   "metadata": {},
   "outputs": [],
   "source": []
  },
  {
   "cell_type": "code",
   "execution_count": null,
   "id": "36c755f1",
   "metadata": {},
   "outputs": [
    {
     "name": "stdout",
     "output_type": "stream",
     "text": [
      "<class 'tuple'>\n"
     ]
    }
   ],
   "source": [
    "emphty_tuple=()\n",
    "print(type(emphty_tuple))\n",
    "\n"
   ]
  }
 ],
 "metadata": {
  "kernelspec": {
   "display_name": "Python 3",
   "language": "python",
   "name": "python3"
  },
  "language_info": {
   "codemirror_mode": {
    "name": "ipython",
    "version": 3
   },
   "file_extension": ".py",
   "mimetype": "text/x-python",
   "name": "python",
   "nbconvert_exporter": "python",
   "pygments_lexer": "ipython3",
   "version": "3.12.0"
  }
 },
 "nbformat": 4,
 "nbformat_minor": 5
}
