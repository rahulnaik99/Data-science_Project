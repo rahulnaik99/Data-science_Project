{
 "cells": [
  {
   "cell_type": "code",
   "execution_count": 4,
   "id": "1ec8dff4",
   "metadata": {},
   "outputs": [
    {
     "name": "stdout",
     "output_type": "stream",
     "text": [
      "Yellpaur\n",
      "['Thej', 'Roshani', 'Yellpaur']\n",
      "['Yellpaur', 12, 18, 12]\n",
      "['Rahul', 'Thej', 'Roshani', 'Yellpaur']\n",
      "double collon -> jump{list} and ['Rahul', 'Roshani', 12, 12]\n"
     ]
    }
   ],
   "source": [
    "print(list[3])  ##get item by index\n",
    "print(list[1:4]) ## get by range\n",
    "print(list[3:])\n",
    "print(list[:4])  \n",
    "print(\"double collon -> jump{list} and\",list[::2])"
   ]
  },
  {
   "cell_type": "code",
   "execution_count": 5,
   "id": "65b02be5",
   "metadata": {},
   "outputs": [
    {
     "name": "stdout",
     "output_type": "stream",
     "text": [
      "<class 'list'>\n",
      "['Rahul', 'Thej', 'Roshani', 'Yellpaur', 12, 18, 12]\n"
     ]
    }
   ],
   "source": [
    "list=[\"Rahul\",\"Thej\", \"Roshani\",\"Yellpaur\",12,18,12]\n",
    "\n",
    "print(type(list))\n",
    "\n",
    "print(list)\n"
   ]
  },
  {
   "cell_type": "code",
   "execution_count": 6,
   "id": "d7d86597",
   "metadata": {},
   "outputs": [
    {
     "name": "stdout",
     "output_type": "stream",
     "text": [
      "['Rahul', 'Thej', 'Roshani', 'Yellpaur', 'Mysuru', 18, 12]\n",
      "['Python', 'Rahul', 'Thej', 'Roshani', 'Yellpaur', 'Mysuru', 18, 12, 'Orange']\n"
     ]
    },
    {
     "data": {
      "text/plain": [
       "['Python',\n",
       " 'Rahul',\n",
       " 'Thej',\n",
       " 'Roshani',\n",
       " 'Yellpaur',\n",
       " 'Mysuru',\n",
       " 18,\n",
       " 12,\n",
       " 'Orange',\n",
       " 'Benagaluru']"
      ]
     },
     "execution_count": 6,
     "metadata": {},
     "output_type": "execute_result"
    }
   ],
   "source": [
    "list[4]=\"Mysuru\"\n",
    "print(list)\n",
    "\n",
    "list.append(\"Orange\")  #it will item to the end\n",
    "list.insert(0,\"Python\") #insert wrt index\n",
    "print(list)\n",
    "list.__add__([\"Benagaluru\"]) #it will append another list\n",
    "\n"
   ]
  },
  {
   "cell_type": "code",
   "execution_count": 7,
   "id": "be53538a",
   "metadata": {},
   "outputs": [
    {
     "name": "stdout",
     "output_type": "stream",
     "text": [
      "Orange\n",
      "['Python', 'Rahul', 'Thej', 'Roshani', 'Yellpaur', 'Mysuru', 18]\n",
      "index of Rahul  1\n",
      "count 3\n"
     ]
    }
   ],
   "source": [
    "list.remove(12) ##will remove duplicate \n",
    "\n",
    "list_second_1 = list.pop() ##delete last object\n",
    "print(list_second_1)\n",
    "print(list)\n",
    "\n",
    "print(\"index of Rahul \",list.index(\"Rahul\"))  ##print index of the object\n",
    "\n",
    "list.insert(2,\"Rahul\")\n",
    "list.insert(5,\"Rahul\")\n",
    "\n",
    "\n",
    "print(\"count\",list.count(\"Rahul\"))  ##count the element\n",
    "\n",
    "list.remove(18)"
   ]
  },
  {
   "cell_type": "code",
   "execution_count": 8,
   "id": "9f4d5c5d",
   "metadata": {},
   "outputs": [
    {
     "name": "stdout",
     "output_type": "stream",
     "text": [
      "sorted list ['Mysuru', 'Python', 'Rahul', 'Rahul', 'Rahul', 'Roshani', 'Thej', 'Yellpaur']\n",
      "reverse ['Yellpaur', 'Thej', 'Roshani', 'Rahul', 'Rahul', 'Rahul', 'Python', 'Mysuru']\n"
     ]
    }
   ],
   "source": [
    "\n",
    "list.sort()  ##sort the list\n",
    "print(\"sorted list\",list)\n",
    "\n",
    "\n",
    "list.reverse()  ##reverse the list\n",
    "print(\"reverse\",list)"
   ]
  },
  {
   "cell_type": "code",
   "execution_count": 9,
   "id": "594a94a2",
   "metadata": {},
   "outputs": [
    {
     "name": "stdout",
     "output_type": "stream",
     "text": [
      "Iterate\n",
      "Yellpaur\n",
      "Thej\n",
      "Roshani\n",
      "Rahul\n",
      "Rahul\n",
      "Rahul\n",
      "Python\n",
      "Mysuru\n",
      "0 Yellpaur\n",
      "1 Thej\n",
      "2 Roshani\n",
      "3 Rahul\n",
      "4 Rahul\n",
      "5 Rahul\n",
      "6 Python\n",
      "7 Mysuru\n"
     ]
    }
   ],
   "source": [
    "print(\"Iterate\")\n",
    "for element in list:\n",
    "    print(element)\n",
    "\n",
    "\n",
    "for position,element in enumerate(list):  ##iterate with index\n",
    "    print(position,element) "
   ]
  },
  {
   "cell_type": "code",
   "execution_count": 10,
   "id": "7e81ae00",
   "metadata": {},
   "outputs": [
    {
     "name": "stdout",
     "output_type": "stream",
     "text": [
      "[0, 1, 4, 9, 16]\n",
      "[0, 2, 4, 6, 8]\n"
     ]
    }
   ],
   "source": [
    "print([x**2 for x in range(5)])  # {experssion , range}\n",
    "print([num for num in range(10) if num%2==0 ]) ##{expression, range, condidtion}\n"
   ]
  },
  {
   "cell_type": "code",
   "execution_count": 11,
   "id": "f9a99e97",
   "metadata": {},
   "outputs": [
    {
     "name": "stdout",
     "output_type": "stream",
     "text": [
      "[[1, 'a'], [1, 'b'], [1, 'c'], [1, 'd'], [2, 'a'], [2, 'b'], [2, 'c'], [2, 'd'], [3, 'a'], [3, 'b'], [3, 'c'], [3, 'd'], [4, 'a'], [4, 'b'], [4, 'c'], [4, 'd'], [5, 'a'], [5, 'b'], [5, 'c'], [5, 'd']]\n",
      "[5, 5, 4]\n",
      "the emphty lis []\n"
     ]
    }
   ],
   "source": [
    "list1=[1,2,3,4,5]\n",
    "list2=['a','b','c','d']\n",
    "\n",
    "pair=[[i,j] for i in list1 for j in list2 ]\n",
    "print(pair)\n",
    "\n",
    "words =[\"rahul\",\"mohan\",\"naik\"]\n",
    "lengths=[len(word) for word in words]\n",
    "print(lengths)\n",
    "\n",
    "list.clear()\n",
    "print(\"the emphty lis\",list)"
   ]
  },
  {
   "cell_type": "code",
   "execution_count": null,
   "id": "f0df820b",
   "metadata": {},
   "outputs": [
    {
     "name": "stdout",
     "output_type": "stream",
     "text": [
      "3\n",
      "1 2 3 4 \n",
      "\n",
      "4 5 6 7 \n",
      "\n",
      "1 raghu rahu rahul \n",
      "\n"
     ]
    }
   ],
   "source": [
    "\n",
    "\n",
    "\n",
    "#nested list\n",
    "lst_nested=[[1,2,3,4],[4,5,6,7],[1,\"raghu\",\"rahu\",\"rahul\"]]\n",
    "print(lst_nested[0][2])\n",
    "for item in lst_nested:\n",
    "    for element in item:\n",
    "        print(element,end=\" \")\n",
    "    print(\"\\n\")    "
   ]
  }
 ],
 "metadata": {
  "kernelspec": {
   "display_name": "Python 3",
   "language": "python",
   "name": "python3"
  },
  "language_info": {
   "codemirror_mode": {
    "name": "ipython",
    "version": 3
   },
   "file_extension": ".py",
   "mimetype": "text/x-python",
   "name": "python",
   "nbconvert_exporter": "python",
   "pygments_lexer": "ipython3",
   "version": "3.12.0"
  }
 },
 "nbformat": 4,
 "nbformat_minor": 5
}
