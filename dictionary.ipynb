{
 "cells": [
  {
   "cell_type": "markdown",
   "id": "74c7d598",
   "metadata": {},
   "source": [
    "Dectionary is un ordered collections of items, with key value pairs\n",
    "No Duplicate keys are allowed ->when added duplicate then it will be over written"
   ]
  },
  {
   "cell_type": "code",
   "execution_count": 52,
   "id": "443de919",
   "metadata": {},
   "outputs": [
    {
     "name": "stdout",
     "output_type": "stream",
     "text": [
      "<class 'dict'>\n",
      "{} <class 'dict'>\n"
     ]
    }
   ],
   "source": [
    "dic={}\n",
    "print(type(dic))\n",
    "empthy_dic= dict()\n",
    "print(empthy_dic,type(empthy_dic))"
   ]
  },
  {
   "cell_type": "code",
   "execution_count": 53,
   "id": "fb3dc176",
   "metadata": {},
   "outputs": [
    {
     "name": "stdout",
     "output_type": "stream",
     "text": [
      "{'name': 'Rahul', 'rollNo': '2GP17CS023', 'DOY': 1999, 'Grade': 'A'} <class 'dict'>\n"
     ]
    }
   ],
   "source": [
    "Student={\"name\":\"Rahul\",\"rollNo\":\"2GP17CS023\",\"DOY\":1999,\"Grade\":\"A\"}\n",
    "print(Student,type(Student))"
   ]
  },
  {
   "cell_type": "code",
   "execution_count": 54,
   "id": "b9c0c9ba",
   "metadata": {},
   "outputs": [
    {
     "name": "stdout",
     "output_type": "stream",
     "text": [
      "Rahul\n",
      "A\n",
      "Not Available\n"
     ]
    }
   ],
   "source": [
    "#accesing the values\n",
    "print(Student[\"name\"])\n",
    "\n",
    "print(Student.get(\"Grade\"))\n",
    "# print(Student.get(\"lastname\"))\n",
    "print(Student.get(\"lastname\",\"Not Available\"))"
   ]
  },
  {
   "cell_type": "code",
   "execution_count": 55,
   "id": "3144ee29",
   "metadata": {},
   "outputs": [
    {
     "name": "stdout",
     "output_type": "stream",
     "text": [
      "{'name': 'Rahul', 'rollNo': '2GP17CS023', 'DOY': 1999, 'Grade': 'A'}\n",
      "{'name': 'Rahul', 'rollNo': '2GP17CS023', 'DOY': 1999, 'Grade': 'A', 'Age': 33, 'Address': 'India'}\n",
      "{'name': 'Rahul', 'rollNo': '2GP17CS023', 'DOY': 1999, 'Grade': 'A', 'Address': 'India'}\n"
     ]
    }
   ],
   "source": [
    "#modifying Dict, and those are mutable\n",
    "#update/Delete\n",
    "\n",
    "print(Student)\n",
    "Student[\"Age\"]=33\n",
    "Student[\"Address\"]=\"India\"\n",
    "print(Student)\n",
    "\n",
    "del Student[\"Age\"]\n",
    "print (Student)   "
   ]
  },
  {
   "cell_type": "code",
   "execution_count": 56,
   "id": "8bd6b565",
   "metadata": {},
   "outputs": [
    {
     "name": "stdout",
     "output_type": "stream",
     "text": [
      "dict_keys(['name', 'rollNo', 'DOY', 'Grade', 'Address'])\n",
      "dict_values(['Rahul', '2GP17CS023', 1999, 'A', 'India'])\n",
      "dict_items([('name', 'Rahul'), ('rollNo', '2GP17CS023'), ('DOY', 1999), ('Grade', 'A'), ('Address', 'India')])\n"
     ]
    }
   ],
   "source": [
    "#Dictionary Methods\n",
    "\n",
    "keys=Student.keys()\n",
    "print(keys)\n",
    "\n",
    "values=Student.values()\n",
    "print(values)\n",
    "\n",
    "items = Student.items()\n",
    "print(items)"
   ]
  },
  {
   "cell_type": "code",
   "execution_count": 57,
   "id": "3a1b6430",
   "metadata": {},
   "outputs": [
    {
     "name": "stdout",
     "output_type": "stream",
     "text": [
      "{'name': 'Rahul', 'rollNo': '2GP17CS023', 'DOY': 1999, 'Grade': 'A', 'Address': 'India'}\n",
      "{'name': 'rahu', 'rollNo': '2GP17CS023', 'DOY': 1999, 'Grade': 'A', 'Address': 'India'}\n",
      "{'name': 'rahu', 'rollNo': '2GP17CS023', 'DOY': 1999, 'Grade': 'A', 'Address': 'India'}\n"
     ]
    }
   ],
   "source": [
    "#shallow copy\n",
    "\n",
    "Studentcopy = Student\n",
    "print(Studentcopy)\n",
    "\n",
    "Student[\"name\"]=\"rahu\"\n",
    "print(Studentcopy)\n",
    "\n",
    "\n",
    "\n",
    "Student_shallowcopy = Student.copy()\n",
    "Student[\"DOY\"]=1998\n",
    "print(Student_shallowcopy)\n"
   ]
  },
  {
   "cell_type": "code",
   "execution_count": 65,
   "id": "42532e5f",
   "metadata": {},
   "outputs": [
    {
     "name": "stdout",
     "output_type": "stream",
     "text": [
      "name rollNo DOY Grade Address \n",
      "\n",
      "rahu 2GP17CS023 1998 A India \n",
      "\n",
      "name:rahu\n",
      "rollNo:2GP17CS023\n",
      "DOY:1998\n",
      "Grade:A\n",
      "Address:India\n"
     ]
    }
   ],
   "source": [
    "for key in Student.keys():\n",
    "        print(key,end=\" \")\n",
    "print(\"\\n\")    \n",
    "\n",
    "for values in Student.values():\n",
    "        print(values,end=\" \")\n",
    "print(\"\\n\")    \n",
    "\n",
    "\n",
    "for key,value in Student.items():\n",
    "    print(f\"{key}:{value}\")  \n"
   ]
  },
  {
   "cell_type": "code",
   "execution_count": 68,
   "id": "76467818",
   "metadata": {},
   "outputs": [
    {
     "name": "stdout",
     "output_type": "stream",
     "text": [
      "{'Student1': {'name': 'rahul', 'rollNo': '2GP17CS023'}, 'Student2': {'name': 'roshani', 'rollNo': '2GP18CS21'}}\n",
      "rahul\n",
      "2GP18CS21\n"
     ]
    }
   ],
   "source": [
    "##nested Dict\n",
    "\n",
    "Students = {\"Student1\" :{\"name\":\"rahul\",\"rollNo\":\"2GP17CS023\"},\n",
    "            \"Student2\":{\"name\":\"roshani\",\"rollNo\":\"2GP18CS21\"}\n",
    "            }\n",
    "print(Students)\n",
    "\n",
    "\n",
    "print(Students[\"Student1\"][\"name\"])\n",
    "print(Students[\"Student2\"][\"rollNo\"])"
   ]
  },
  {
   "cell_type": "code",
   "execution_count": 72,
   "id": "832f61b4",
   "metadata": {},
   "outputs": [
    {
     "name": "stdout",
     "output_type": "stream",
     "text": [
      "Student1:{'name': 'rahul', 'rollNo': '2GP17CS023'}\n",
      "name:rahul\n",
      "rollNo:2GP17CS023\n",
      "Student2:{'name': 'roshani', 'rollNo': '2GP18CS21'}\n",
      "name:roshani\n",
      "rollNo:2GP18CS21\n"
     ]
    }
   ],
   "source": [
    "for studentID,studentInfo in Students.items():\n",
    "    print(f\"{studentID}:{studentInfo}\")\n",
    "    for key,value in studentInfo.items():\n",
    "        print(f\"{key}:{value}\")\n"
   ]
  },
  {
   "cell_type": "code",
   "execution_count": 75,
   "id": "5cf8217c",
   "metadata": {},
   "outputs": [
    {
     "name": "stdout",
     "output_type": "stream",
     "text": [
      "{0: 0, 1: 1, 2: 4, 3: 9, 4: 16}\n",
      "{0: 0, 2: 4, 4: 16}\n"
     ]
    }
   ],
   "source": [
    "squares={x:x**2 for x in range(5)}\n",
    "print(squares)\n",
    "\n",
    "square_even={x:x**2 for x in range(5) if(x%2==0) } \n",
    "print(square_even)"
   ]
  },
  {
   "cell_type": "code",
   "execution_count": 82,
   "id": "c12f170b",
   "metadata": {},
   "outputs": [
    {
     "name": "stdout",
     "output_type": "stream",
     "text": [
      "{1: 1, 2: 2, 3: 3, 4: 5}\n"
     ]
    }
   ],
   "source": [
    "num=[1,2,2,3,3,3,4,4,4,4,4,]\n",
    "freq=dict()\n",
    "for i in num:\n",
    "    if i in freq:\n",
    "        freq[i]+=1\n",
    "    else: freq[i]=1\n",
    "print(freq)    \n"
   ]
  }
 ],
 "metadata": {
  "kernelspec": {
   "display_name": "Python 3",
   "language": "python",
   "name": "python3"
  },
  "language_info": {
   "codemirror_mode": {
    "name": "ipython",
    "version": 3
   },
   "file_extension": ".py",
   "mimetype": "text/x-python",
   "name": "python",
   "nbconvert_exporter": "python",
   "pygments_lexer": "ipython3",
   "version": "3.12.0"
  }
 },
 "nbformat": 4,
 "nbformat_minor": 5
}
