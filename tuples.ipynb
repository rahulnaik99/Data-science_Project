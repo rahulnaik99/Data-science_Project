{
 "cells": [
  {
   "cell_type": "code",
   "execution_count": null,
   "id": "86b84cba",
   "metadata": {},
   "outputs": [
    {
     "name": "stdout",
     "output_type": "stream",
     "text": [
      "() <class 'tuple'>\n",
      "(1, 2, 3, 4, 5, 6)\n",
      "[1, 2, 4, 5, 7, 89, 'rahul', 'yelapur']\n",
      "3\n",
      "6\n",
      "(1, 2)\n",
      "(4, 5)\n",
      "(6, 5, 4, 3, 2, 1)\n",
      "(1, 2, 3, 4, 5, 6, 1, 2, 4, 5, 7, 89, 'rahul', 'yelapur')\n",
      "(1, 2, 3, 4, 5, 6, 1, 2, 3, 4, 5, 6, 1, 2, 3, 4, 5, 6)\n"
     ]
    }
   ],
   "source": [
    "#tuples are ordred collectins o fitems that are immutable\n",
    "#similar to list buy thier immutability make them difrent\n",
    "\n",
    "tpl = tuple()\n",
    "print(tpl,type(tpl))\n"
   ]
  },
  {
   "cell_type": "code",
   "execution_count": 33,
   "id": "5e7df17c",
   "metadata": {},
   "outputs": [
    {
     "name": "stdout",
     "output_type": "stream",
     "text": [
      "(1, 2, 3, 4, 5, 6, 2, 46, 2, 1, 5, 78, 3, 7, 5, 1, 3, 7, 3, 1, 8, 7, 9, 8, 7, 5, 3, 2)\n"
     ]
    }
   ],
   "source": [
    "# type conversion list to tuples \n",
    "numbers=tuple([1,2,3,4,5,6,2,46,2,1,5,78,3,7,5,1,3,7,3,1,8,7,9,8,7,5,3,2])\n",
    "print(numbers)\n"
   ]
  },
  {
   "cell_type": "code",
   "execution_count": null,
   "id": "408b7c95",
   "metadata": {},
   "outputs": [],
   "source": [
    "\n",
    "# type conversion  tuples to list\n",
    "lst=list((1,2,4,5,7,89,\"rahul\",\"yelapur\"))\n",
    "print(lst)\n",
    "mixed_tup=tuple(lst)"
   ]
  },
  {
   "cell_type": "code",
   "execution_count": null,
   "id": "a2354a9e",
   "metadata": {},
   "outputs": [],
   "source": [
    "\n",
    "\n",
    "#accescing the tuples\n",
    "print(numbers[2])\n",
    "print(numbers[-1]) #last element\n",
    "print(numbers[:2])\n",
    "print(numbers[3:5])\n",
    "print(numbers[::-1]) #reverse"
   ]
  },
  {
   "cell_type": "code",
   "execution_count": 23,
   "id": "748bf54c",
   "metadata": {},
   "outputs": [
    {
     "name": "stdout",
     "output_type": "stream",
     "text": [
      "(1, 2, 3, 4, 5, 6, 1, 2, 4, 5, 7, 89, 'rahul', 'yelapur')\n",
      "(1, 2, 3, 4, 5, 6, 1, 2, 3, 4, 5, 6, 1, 2, 3, 4, 5, 6)\n"
     ]
    }
   ],
   "source": [
    "\n",
    "#conctaition tuple\n",
    "\n",
    "con_tuple=numbers+mixed_tup\n",
    "print(con_tuple)\n",
    "mul_tup=numbers*3\n",
    "print(mul_tup)"
   ]
  },
  {
   "cell_type": "code",
   "execution_count": 25,
   "id": "5d8f93fb",
   "metadata": {},
   "outputs": [],
   "source": [
    "lst[2]=\"rahul\"\n",
    "# mixed_tup[2]=\"naik\" #tuples are iummuable but list does"
   ]
  },
  {
   "cell_type": "code",
   "execution_count": 36,
   "id": "c36c7796",
   "metadata": {},
   "outputs": [
    {
     "name": "stdout",
     "output_type": "stream",
     "text": [
      "5\n",
      "6\n"
     ]
    }
   ],
   "source": [
    "print(numbers.count(3))\n",
    "print(mixed_tup.index(\"rahul\"))"
   ]
  },
  {
   "cell_type": "code",
   "execution_count": null,
   "id": "b0509fc4",
   "metadata": {},
   "outputs": [
    {
     "name": "stdout",
     "output_type": "stream",
     "text": [
      "(1, 'Hello', 3.14)\n",
      "{1, 2, 3}\n",
      "1 Hello 3.14\n"
     ]
    }
   ],
   "source": [
    "# packing and unpacking\n",
    "packed_tuple= 1,\"Hello\",3.14\n",
    "print(packed_tuple)\n",
    "a,b,c=packed_tuple\n",
    "print(a,b,c)"
   ]
  },
  {
   "cell_type": "code",
   "execution_count": 41,
   "id": "b90d38b0",
   "metadata": {},
   "outputs": [
    {
     "name": "stdout",
     "output_type": "stream",
     "text": [
      "1\n",
      "[2, 4, 5, 7, 89, 'rahul']\n",
      "yelapur\n"
     ]
    }
   ],
   "source": [
    "# unpacking the *\n",
    "first,*second,third=mixed_tup\n",
    "print(first)\n",
    "print(second)\n",
    "print(third)"
   ]
  },
  {
   "cell_type": "code",
   "execution_count": null,
   "id": "29602763",
   "metadata": {},
   "outputs": [
    {
     "name": "stdout",
     "output_type": "stream",
     "text": [
      "3\n",
      "3\n"
     ]
    }
   ],
   "source": [
    "#nested tuple\n",
    "lst_nested=((1,2,3,4),(4,5,6,7),(1,\"raghu\",\"rahu\",\"rahul\"))\n",
    "print(lst_nested[0][2])\n",
    "\n",
    "for i in\n",
    "\n",
    "#nested tuple\n",
    "lst_nested=[[1,2,3,4],[4,5,6,7],(1,\"raghu\",\"rahu\",\"rahul\")]\n",
    "print(lst_nested[0][2])"
   ]
  }
 ],
 "metadata": {
  "kernelspec": {
   "display_name": "Python 3",
   "language": "python",
   "name": "python3"
  },
  "language_info": {
   "codemirror_mode": {
    "name": "ipython",
    "version": 3
   },
   "file_extension": ".py",
   "mimetype": "text/x-python",
   "name": "python",
   "nbconvert_exporter": "python",
   "pygments_lexer": "ipython3",
   "version": "3.12.0"
  }
 },
 "nbformat": 4,
 "nbformat_minor": 5
}
