{
 "cells": [
  {
   "cell_type": "code",
   "execution_count": 2,
   "id": "58ff1818",
   "metadata": {},
   "outputs": [
    {
     "name": "stdout",
     "output_type": "stream",
     "text": [
      "Directort:package_test\n"
     ]
    }
   ],
   "source": [
    "import os \n",
    "new_dir=\"package_test\"\n",
    "os.mkdir(new_dir)\n",
    "print(f\"Directort:{new_dir}\")"
   ]
  },
  {
   "cell_type": "code",
   "execution_count": 3,
   "id": "d2c54864",
   "metadata": {},
   "outputs": [
    {
     "name": "stdout",
     "output_type": "stream",
     "text": [
      "['.git', 'sample.txt', 'requirement.txt', 'test_dir', 'package_test', 'standardLibrary.ipynb', 'basic.ipynb', 'example.csv', 'package', 'exmpleFunction.ipynb', 'dictionary.ipynb', 'README.md', 'module.ipynb', 'list.ipynb', 'fileOperation.ipynb', '`', 'list.py', 'tuples.ipynb', 'listExample.ipynb', 'example..txt', 'venv', 'filepath.ipynb', 'dest.txt', 'set.ipynb']\n"
     ]
    }
   ],
   "source": [
    "items=os.listdir('.')\n",
    "print(items)"
   ]
  },
  {
   "cell_type": "code",
   "execution_count": null,
   "id": "e9eefb72",
   "metadata": {},
   "outputs": [
    {
     "name": "stdout",
     "output_type": "stream",
     "text": [
      "/home/rahul/Git/DataScience/folder/file.txt\n"
     ]
    }
   ],
   "source": [
    "# joinng __path__\n",
    "\n",
    "dir_name=\"folder\"\n",
    "file_name=\"file.txt\"\n",
    "\n",
    "full_path=os.path.join(os.getcwd(),dir_name,file_name)\n",
    "print(full_path)\n",
    "\n",
    "\n"
   ]
  },
  {
   "cell_type": "code",
   "execution_count": 15,
   "id": "ab6bfda0",
   "metadata": {},
   "outputs": [
    {
     "name": "stdout",
     "output_type": "stream",
     "text": [
      "False\n"
     ]
    }
   ],
   "source": [
    "if os.path.exists(full_path):\n",
    "    print(f\"True '{full_path}'\")\n",
    "else: print(False )   "
   ]
  }
 ],
 "metadata": {
  "kernelspec": {
   "display_name": "Python 3",
   "language": "python",
   "name": "python3"
  },
  "language_info": {
   "codemirror_mode": {
    "name": "ipython",
    "version": 3
   },
   "file_extension": ".py",
   "mimetype": "text/x-python",
   "name": "python",
   "nbconvert_exporter": "python",
   "pygments_lexer": "ipython3",
   "version": "3.12.0"
  }
 },
 "nbformat": 4,
 "nbformat_minor": 5
}
