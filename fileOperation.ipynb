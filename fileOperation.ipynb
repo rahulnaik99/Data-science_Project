{
 "cells": [
  {
   "cell_type": "code",
   "execution_count": 4,
   "id": "e9bbc39e",
   "metadata": {},
   "outputs": [
    {
     "name": "stdout",
     "output_type": "stream",
     "text": [
      "Hello how are you Rahul\n",
      "How is your helath\n",
      "When is the launch\n",
      "are you going to office\n"
     ]
    }
   ],
   "source": [
    "with open('example..txt',mode='r') as file:\n",
    "    content = file.read()\n",
    "    print(content)\n"
   ]
  },
  {
   "cell_type": "code",
   "execution_count": 18,
   "id": "4eca38cc",
   "metadata": {},
   "outputs": [
    {
     "name": "stdout",
     "output_type": "stream",
     "text": [
      "\n",
      "Yellapurl hwru\n",
      "Mangya\n"
     ]
    }
   ],
   "source": [
    "with open('example..txt',mode='r') as file:\n",
    "    for line in file:\n",
    "        print(line.strip())"
   ]
  },
  {
   "cell_type": "code",
   "execution_count": 17,
   "id": "80e7d521",
   "metadata": {},
   "outputs": [],
   "source": [
    "with open('example..txt',mode='w') as file:\n",
    "    file.write(\"hello Raul hwru\\n\")\n",
    "    file.write(\"Mangya\\n\")\n",
    "    file.seek(0)\n",
    "    file.write(\"\\nYellapur\")\n"
   ]
  },
  {
   "cell_type": "code",
   "execution_count": 9,
   "id": "2f79f666",
   "metadata": {},
   "outputs": [],
   "source": [
    "with open('example..txt',mode='a') as file:\n",
    "    file.write(\"Yellapur\")\n",
    "    "
   ]
  },
  {
   "cell_type": "code",
   "execution_count": 12,
   "id": "5656fa9e",
   "metadata": {},
   "outputs": [],
   "source": [
    "lines=['line1\\n','line2\\n']"
   ]
  },
  {
   "cell_type": "code",
   "execution_count": 13,
   "id": "e66708bf",
   "metadata": {},
   "outputs": [],
   "source": [
    "with open('example..txt',mode='a') as file:\n",
    "    file.writelines(lines)"
   ]
  },
  {
   "cell_type": "code",
   "execution_count": null,
   "id": "e62e3441",
   "metadata": {},
   "outputs": [],
   "source": [
    "##binary file is bin files\n",
    "\n"
   ]
  }
 ],
 "metadata": {
  "kernelspec": {
   "display_name": "Python 3",
   "language": "python",
   "name": "python3"
  },
  "language_info": {
   "codemirror_mode": {
    "name": "ipython",
    "version": 3
   },
   "file_extension": ".py",
   "mimetype": "text/x-python",
   "name": "python",
   "nbconvert_exporter": "python",
   "pygments_lexer": "ipython3",
   "version": "3.12.0"
  }
 },
 "nbformat": 4,
 "nbformat_minor": 5
}
