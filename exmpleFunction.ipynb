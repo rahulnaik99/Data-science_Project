{
 "cells": [
  {
   "cell_type": "code",
   "execution_count": null,
   "id": "28871778",
   "metadata": {},
   "outputs": [
    {
     "name": "stdout",
     "output_type": "stream",
     "text": [
      "93.2\n",
      "36.66666666666667\n",
      "<class 'float'>\n"
     ]
    }
   ],
   "source": [
    "def con_temp(temp,unit):\n",
    "    if unit=='C':\n",
    "        return ((temp*9)/5)+32\n",
    "    elif unit=='F':\n",
    "        return float(((temp-32)*(5/9)))\n",
    "    else: return None\n",
    "\n",
    "print(con_temp(34,'C'))\n",
    "print(con_temp(98,'F'))\n",
    "\n"
   ]
  },
  {
   "cell_type": "code",
   "execution_count": null,
   "id": "0a515a1d",
   "metadata": {},
   "outputs": [
    {
     "name": "stdout",
     "output_type": "stream",
     "text": [
      "2.9\n"
     ]
    }
   ],
   "source": [
    "def calculate_total_cost(cart):\n",
    "    total_cost=0\n",
    "    for item in cart:\n",
    "        total_cost=item[\"price\"]+item[\"quantity\"]\n",
    "    return total_cost    \n",
    "\n",
    "\n",
    "\n",
    "print(calculate_total_cost( [{\"name\":\"apple\",\"price\":0.5,\"quantity\":2} ,{\"name\":\"Banana\",\"price\":0.9,\"quantity\":2}]))"
   ]
  },
  {
   "cell_type": "code",
   "execution_count": null,
   "id": "690f9dd9",
   "metadata": {},
   "outputs": [
    {
     "data": {
      "text/plain": [
       "False"
      ]
     },
     "execution_count": 8,
     "metadata": {},
     "output_type": "execute_result"
    }
   ],
   "source": [
    "def pwd_strngth(pwd):\n",
    "    if len(pwd)<8:\n",
    "        return False\n",
    "    if not any(char.isdigit() for char in pwd):\n",
    "        return False\n",
    "    if not any(char.islower() for char in pwd):\n",
    "        return False\n",
    "    if not any(char.isupper() for char in pwd):\n",
    "        return False\n",
    "    if not any(char in '!@#$%^&*()_+' for char in pwd):\n",
    "        return False\n",
    "    else: return\n",
    "\n",
    "pwd_strngth(\"Charle@777\")"
   ]
  },
  {
   "cell_type": "code",
   "execution_count": null,
   "id": "9d2213d9",
   "metadata": {},
   "outputs": [
    {
     "name": "stdout",
     "output_type": "stream",
     "text": [
      "luhar\n",
      "False\n"
     ]
    }
   ],
   "source": [
    "def plaindrome(str):\n",
    "    s=str.lower().replace(\" \",\"\")\n",
    "    print (s[::-1]) #reverse the String\n",
    "    print (s==s[::-1])\n",
    "\n",
    "plaindrome(\"rahul\")"
   ]
  },
  {
   "cell_type": "code",
   "execution_count": 17,
   "id": "37abb680",
   "metadata": {},
   "outputs": [
    {
     "name": "stdout",
     "output_type": "stream",
     "text": [
      "6\n"
     ]
    }
   ],
   "source": [
    "def fact(num):\n",
    "    if num==0:\n",
    "        return 1\n",
    "    else:\n",
    "        return num*fact(num-1)\n",
    "    \n",
    "print(fact(3))    "
   ]
  },
  {
   "cell_type": "code",
   "execution_count": 18,
   "id": "82cd9031",
   "metadata": {},
   "outputs": [
    {
     "name": "stdout",
     "output_type": "stream",
     "text": [
      "{'hello': 1, 'how': 2, 'are': 2, 'you': 2, 'rahul': 1, 'is': 2, 'your': 1, 'helath': 1, 'when': 1, 'the': 1, 'launch': 1, 'going': 1, 'to': 1, 'office': 1}\n"
     ]
    }
   ],
   "source": [
    "def count_word(file):\n",
    "    word_count={}\n",
    "    with open (file) as file:\n",
    "        for line in file:\n",
    "            words=line.split()\n",
    "            for word in words:\n",
    "                word=word.lower().strip('!@#$%^&*()_+')\n",
    "                word_count[word]=word_count.get(word,0)+1\n",
    "    return word_count\n",
    "file='sample.txt'\n",
    "print(count_word(file))\n"
   ]
  },
  {
   "cell_type": "code",
   "execution_count": null,
   "id": "b3ba3f4d",
   "metadata": {},
   "outputs": [
    {
     "name": "stdout",
     "output_type": "stream",
     "text": [
      "naik@gmail.com\n"
     ]
    }
   ],
   "source": [
    "\n",
    "email=\"naik@gmail.com\"\n",
    "pattern = r'^[a-zA-Z0-9_.+-]+@[a-zA-z]+.[a-zA-Z]+$'\n",
    "if re.match(pattern,email) is not none\n"
   ]
  }
 ],
 "metadata": {
  "kernelspec": {
   "display_name": "Python 3",
   "language": "python",
   "name": "python3"
  },
  "language_info": {
   "codemirror_mode": {
    "name": "ipython",
    "version": 3
   },
   "file_extension": ".py",
   "mimetype": "text/x-python",
   "name": "python",
   "nbconvert_exporter": "python",
   "pygments_lexer": "ipython3",
   "version": "3.12.0"
  }
 },
 "nbformat": 4,
 "nbformat_minor": 5
}
