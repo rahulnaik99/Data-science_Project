{
 "cells": [
  {
   "cell_type": "code",
   "execution_count": 20,
   "id": "28871778",
   "metadata": {},
   "outputs": [
    {
     "name": "stdout",
     "output_type": "stream",
     "text": [
      "93.2\n",
      "36.66666666666667\n"
     ]
    }
   ],
   "source": [
    "def con_temp(temp,unit):\n",
    "    if unit=='C':\n",
    "        return ((temp*9)/5)+32\n",
    "    elif unit=='F':\n",
    "        return float(((temp-32)*(5/9)))\n",
    "    else: return None\n",
    "\n",
    "print(con_temp(34,'C'))\n",
    "print(con_temp(98,'F'))\n",
    "\n"
   ]
  },
  {
   "cell_type": "code",
   "execution_count": 21,
   "id": "0a515a1d",
   "metadata": {},
   "outputs": [
    {
     "name": "stdout",
     "output_type": "stream",
     "text": [
      "2.9\n"
     ]
    }
   ],
   "source": [
    "def calculate_total_cost(cart):\n",
    "    total_cost=0\n",
    "    for item in cart:\n",
    "        total_cost=item[\"price\"]+item[\"quantity\"]\n",
    "    return total_cost    \n",
    "\n",
    "\n",
    "\n",
    "print(calculate_total_cost( [{\"name\":\"apple\",\"price\":0.5,\"quantity\":2} ,{\"name\":\"Banana\",\"price\":0.9,\"quantity\":2}]))"
   ]
  },
  {
   "cell_type": "code",
   "execution_count": 22,
   "id": "690f9dd9",
   "metadata": {},
   "outputs": [],
   "source": [
    "def pwd_strngth(pwd):\n",
    "    if len(pwd)<8:\n",
    "        return False\n",
    "    if not any(char.isdigit() for char in pwd):\n",
    "        return False\n",
    "    if not any(char.islower() for char in pwd):\n",
    "        return False\n",
    "    if not any(char.isupper() for char in pwd):\n",
    "        return False\n",
    "    if not any(char in '!@#$%^&*()_+' for char in pwd):\n",
    "        return False\n",
    "    else: return\n",
    "\n",
    "pwd_strngth(\"Charle@777\")"
   ]
  },
  {
   "cell_type": "code",
   "execution_count": 23,
   "id": "9d2213d9",
   "metadata": {},
   "outputs": [
    {
     "name": "stdout",
     "output_type": "stream",
     "text": [
      "luhar\n",
      "False\n"
     ]
    }
   ],
   "source": [
    "def plaindrome(str):\n",
    "    s=str.lower().replace(\" \",\"\")\n",
    "    print (s[::-1]) #reverse the String\n",
    "    print (s==s[::-1])\n",
    "\n",
    "plaindrome(\"rahul\")"
   ]
  },
  {
   "cell_type": "code",
   "execution_count": 24,
   "id": "37abb680",
   "metadata": {},
   "outputs": [
    {
     "name": "stdout",
     "output_type": "stream",
     "text": [
      "6\n"
     ]
    }
   ],
   "source": [
    "def fact(num):\n",
    "    if num==0:\n",
    "        return 1\n",
    "    else:\n",
    "        return num*fact(num-1)\n",
    "    \n",
    "print(fact(3))    "
   ]
  },
  {
   "cell_type": "code",
   "execution_count": 25,
   "id": "82cd9031",
   "metadata": {},
   "outputs": [
    {
     "name": "stdout",
     "output_type": "stream",
     "text": [
      "{'hello': 1, 'how': 2, 'are': 2, 'you': 2, 'rahul': 1, 'is': 2, 'your': 1, 'helath': 1, 'when': 1, 'the': 1, 'launch': 1, 'going': 1, 'to': 1, 'office': 1}\n"
     ]
    }
   ],
   "source": [
    "def count_word(file):\n",
    "    word_count={}\n",
    "    with open (file) as file:\n",
    "        for line in file:\n",
    "            words=line.split()\n",
    "            for word in words:\n",
    "                word=word.lower().strip('!@#$%^&*()_+')\n",
    "                word_count[word]=word_count.get(word,0)+1\n",
    "    return word_count\n",
    "file='sample.txt'\n",
    "print(count_word(file))\n"
   ]
  },
  {
   "cell_type": "code",
   "execution_count": 26,
   "id": "b3ba3f4d",
   "metadata": {},
   "outputs": [
    {
     "name": "stdout",
     "output_type": "stream",
     "text": [
      "pass\n"
     ]
    }
   ],
   "source": [
    "import re\n",
    "email=\"naik@gmail.com\"\n",
    "pattern = r'^[a-zA-Z0-9_.+-]+@[a-zA-z]+.[a-zA-Z]+$'\n",
    "if re.match(pattern,email):\n",
    "    print(\"pass\")\n"
   ]
  },
  {
   "cell_type": "code",
   "execution_count": 27,
   "id": "2d6e1482",
   "metadata": {},
   "outputs": [
    {
     "name": "stdout",
     "output_type": "stream",
     "text": [
      "[<map object at 0x72a644a9d5a0>]\n"
     ]
    }
   ],
   "source": [
    "number=[1,2,3,4,5,6]\n",
    "print([map(lambda x:x**2, number)])"
   ]
  },
  {
   "cell_type": "code",
   "execution_count": 29,
   "id": "2aea78a5",
   "metadata": {},
   "outputs": [
    {
     "name": "stdout",
     "output_type": "stream",
     "text": [
      "[3, 5, 7, 9]\n"
     ]
    }
   ],
   "source": [
    "number1=[1,2,3,4]\n",
    "number2=[2,3,4,5]\n",
    "\n",
    "print(list(map(lambda x,y:x+y,number1,number2)))\n"
   ]
  },
  {
   "cell_type": "code",
   "execution_count": 34,
   "id": "764daaa1",
   "metadata": {},
   "outputs": [
    {
     "name": "stdout",
     "output_type": "stream",
     "text": [
      "[1, 2, 3]\n"
     ]
    }
   ],
   "source": [
    "str=['1','2','3']\n",
    "int_num=list(map(int,str))\n",
    "print(int_num)"
   ]
  },
  {
   "cell_type": "code",
   "execution_count": null,
   "id": "6bad0679",
   "metadata": {},
   "outputs": [
    {
     "name": "stdout",
     "output_type": "stream",
     "text": [
      "['APPLE', 'BANANA', 'CHERRY']\n"
     ]
    }
   ],
   "source": [
    "words=['apple','banana','cherry']\n",
    "upper_words=list(map(str.upper(),words))\n",
    "print(upper_words)"
   ]
  },
  {
   "cell_type": "code",
   "execution_count": null,
   "id": "06cdc735",
   "metadata": {},
   "outputs": [
    {
     "name": "stdout",
     "output_type": "stream",
     "text": [
      "['rahul', 'rohan', 'roha']\n",
      "[{'name': 'roha', 'DOY': 2001}]\n"
     ]
    }
   ],
   "source": [
    "ppl=[\n",
    "\n",
    "    {'name':'rahul','DOY':1999},\n",
    "\n",
    "    {'name':'rohan','DOY':2000},\n",
    "    {'name':'roha','DOY':2001  }\n",
    "    ]\n",
    "\n",
    "getname=list(map(lambda ppl:ppl.get('name'),ppl))\n",
    "\n",
    "get_doy=list(filter(lambda ppl:ppl.get('DOY')>2000,ppl))\n",
    "print(getname)\n",
    "print(get_doy)"
   ]
  },
  {
   "cell_type": "code",
   "execution_count": 43,
   "id": "1ef9dc7a",
   "metadata": {},
   "outputs": [
    {
     "name": "stdout",
     "output_type": "stream",
     "text": [
      "2 its a even number\n",
      "4 its a even number\n",
      "6 its a even number\n",
      "[]\n",
      "[3]\n"
     ]
    }
   ],
   "source": [
    "list1=[1,2,3,4,5,6]\n",
    "list2=['apple','banana','orange']\n",
    "\n",
    "def evn_odd(num):\n",
    "    if num%2==0:\n",
    "        print(num,'its a even number')\n",
    "\n",
    "result =list(filter(evn_odd,list1))        \n",
    "print(result)\n",
    "\n",
    "\n",
    "result=list(filter(lambda x:x>2 and x<4,list1))\n",
    "print(result)"
   ]
  },
  {
   "cell_type": "code",
   "execution_count": 5,
   "id": "78582b79",
   "metadata": {},
   "outputs": [
    {
     "name": "stdout",
     "output_type": "stream",
     "text": [
      "4\n",
      "18\n",
      "85\n"
     ]
    }
   ],
   "source": [
    "with open('sample.txt', mode='r') as file:\n",
    "    lines=file.readlines()\n",
    "    print(len(lines))\n",
    "    print(sum(len(line.split())for line in lines))\n",
    "    print(sum(len(line)for line in lines))"
   ]
  },
  {
   "cell_type": "code",
   "execution_count": null,
   "id": "40e97f66",
   "metadata": {},
   "outputs": [],
   "source": []
  }
 ],
 "metadata": {
  "kernelspec": {
   "display_name": "Python 3",
   "language": "python",
   "name": "python3"
  },
  "language_info": {
   "codemirror_mode": {
    "name": "ipython",
    "version": 3
   },
   "file_extension": ".py",
   "mimetype": "text/x-python",
   "name": "python",
   "nbconvert_exporter": "python",
   "pygments_lexer": "ipython3",
   "version": "3.12.0"
  }
 },
 "nbformat": 4,
 "nbformat_minor": 5
}
